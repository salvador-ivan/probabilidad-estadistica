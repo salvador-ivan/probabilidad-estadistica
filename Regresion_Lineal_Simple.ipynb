{
 "cells": [
  {
   "cell_type": "markdown",
   "metadata": {},
   "source": [
    "# Regresión lineal simple en R\n",
    "Salvador I. Márquez Flores"
   ]
  },
  {
   "cell_type": "markdown",
   "metadata": {},
   "source": [
    "Guarda en un archivo csv o txt los datos de las variables regresora y respuesta en el directorio de trabajo de R."
   ]
  },
  {
   "cell_type": "code",
   "execution_count": 1,
   "metadata": {},
   "outputs": [
    {
     "data": {
      "text/html": [
       "'C:/Users/matem'"
      ],
      "text/latex": [
       "'C:/Users/matem'"
      ],
      "text/markdown": [
       "'C:/Users/matem'"
      ],
      "text/plain": [
       "[1] \"C:/Users/matem\""
      ]
     },
     "metadata": {},
     "output_type": "display_data"
    }
   ],
   "source": [
    "# En caso de requerir la ruta del directorio de trabajo ejecuta la siguiente función:\n",
    "getwd()"
   ]
  },
  {
   "cell_type": "markdown",
   "metadata": {},
   "source": [
    "En este ejemplo, guardaremos el archivo con el nombre de: \"datos.txt\" en el directorio de R. "
   ]
  },
  {
   "cell_type": "code",
   "execution_count": 1,
   "metadata": {},
   "outputs": [],
   "source": [
    "# Con el comando read.table se pueden leer los datos:\n",
    "datos<-read.table(\"datos.txt\",header=T)\n",
    "# header indica que el primer renglón del archivo (encabezado) contiene el nombre de las variables."
   ]
  },
  {
   "cell_type": "code",
   "execution_count": 2,
   "metadata": {},
   "outputs": [
    {
     "data": {
      "text/html": [
       "<table class=\"dataframe\">\n",
       "<caption>A data.frame: 6 × 2</caption>\n",
       "<thead>\n",
       "\t<tr><th scope=col>tiempo</th><th scope=col>distancia</th></tr>\n",
       "\t<tr><th scope=col>&lt;dbl&gt;</th><th scope=col>&lt;dbl&gt;</th></tr>\n",
       "</thead>\n",
       "<tbody>\n",
       "\t<tr><td>0.9</td><td>1.1</td></tr>\n",
       "\t<tr><td>2.3</td><td>1.6</td></tr>\n",
       "\t<tr><td>3.3</td><td>2.6</td></tr>\n",
       "\t<tr><td>4.5</td><td>3.2</td></tr>\n",
       "\t<tr><td>5.7</td><td>4.0</td></tr>\n",
       "\t<tr><td>6.7</td><td>5.0</td></tr>\n",
       "</tbody>\n",
       "</table>\n"
      ],
      "text/latex": [
       "A data.frame: 6 × 2\n",
       "\\begin{tabular}{ll}\n",
       " tiempo & distancia\\\\\n",
       " <dbl> & <dbl>\\\\\n",
       "\\hline\n",
       "\t 0.9 & 1.1\\\\\n",
       "\t 2.3 & 1.6\\\\\n",
       "\t 3.3 & 2.6\\\\\n",
       "\t 4.5 & 3.2\\\\\n",
       "\t 5.7 & 4.0\\\\\n",
       "\t 6.7 & 5.0\\\\\n",
       "\\end{tabular}\n"
      ],
      "text/markdown": [
       "\n",
       "A data.frame: 6 × 2\n",
       "\n",
       "| tiempo &lt;dbl&gt; | distancia &lt;dbl&gt; |\n",
       "|---|---|\n",
       "| 0.9 | 1.1 |\n",
       "| 2.3 | 1.6 |\n",
       "| 3.3 | 2.6 |\n",
       "| 4.5 | 3.2 |\n",
       "| 5.7 | 4.0 |\n",
       "| 6.7 | 5.0 |\n",
       "\n"
      ],
      "text/plain": [
       "  tiempo distancia\n",
       "1 0.9    1.1      \n",
       "2 2.3    1.6      \n",
       "3 3.3    2.6      \n",
       "4 4.5    3.2      \n",
       "5 5.7    4.0      \n",
       "6 6.7    5.0      "
      ]
     },
     "metadata": {},
     "output_type": "display_data"
    }
   ],
   "source": [
    "datos"
   ]
  },
  {
   "cell_type": "markdown",
   "metadata": {},
   "source": [
    "Ahora graficamos el diagrama de dispersión de las variables (regresora, respuesta) = (tiempo,distancia)"
   ]
  },
  {
   "cell_type": "code",
   "execution_count": 3,
   "metadata": {},
   "outputs": [
    {
     "data": {
      "image/png": "[encoded data removed]",
      "text/plain": [
       "plot without title"
      ]
     },
     "metadata": {
      "image/png": {
       "height": 420,
       "width": 420
      }
     },
     "output_type": "display_data"
    }
   ],
   "source": [
    "plot(datos)"
   ]
  },
  {
   "cell_type": "code",
   "execution_count": 4,
   "metadata": {},
   "outputs": [
    {
     "data": {
      "image/png": "[encoded data removed]",
      "text/plain": [
       "Plot with title \"regresión simple\""
      ]
     },
     "metadata": {
      "image/png": {
       "height": 420,
       "width": 420
      }
     },
     "output_type": "display_data"
    }
   ],
   "source": [
    "plot(datos,col=\"red\",lwd=2,xlim=c(0,7),ylim=c(0,5),main=\"regresión simple\")"
   ]
  },
  {
   "cell_type": "markdown",
   "metadata": {},
   "source": [
    "Para determinar el modelo de regresión lineal, mediante mínimos cuadrados, se usa la función: lm(y~x) donde ~ indica que se trata de una fórmula de regresión entre la variable respuesta \"y\" y la variable regresora \"x\", en nuestro caso:"
   ]
  },
  {
   "cell_type": "code",
   "execution_count": 5,
   "metadata": {},
   "outputs": [],
   "source": [
    "regresion<-lm(distancia~tiempo,data=datos)"
   ]
  },
  {
   "cell_type": "code",
   "execution_count": 9,
   "metadata": {},
   "outputs": [
    {
     "data": {
      "text/plain": [
       "\n",
       "Call:\n",
       "lm(formula = distancia ~ tiempo, data = datos)\n",
       "\n",
       "Coefficients:\n",
       "(Intercept)       tiempo  \n",
       "     0.2955       0.6721  \n"
      ]
     },
     "metadata": {},
     "output_type": "display_data"
    }
   ],
   "source": [
    "regresion"
   ]
  },
  {
   "cell_type": "markdown",
   "metadata": {},
   "source": [
    "> El resultado nos muestra los valores de la ordenada al origen βo (Intercept) y de la pendiente β1 "
   ]
  },
  {
   "cell_type": "markdown",
   "metadata": {},
   "source": [
    "En el caso que la recta de regresión lineal deba pasar a través del origen (por consideraciones teóricas o por condiciones iniciales), se usa una sintaxis de la forma: lm(y~0+x), en nuestro ejemplo: \n",
    "> regresion<-lm(distancia~0+tiempo,data=datos)"
   ]
  },
  {
   "cell_type": "code",
   "execution_count": 14,
   "metadata": {
    "scrolled": true
   },
   "outputs": [
    {
     "data": {
      "image/png": "[encoded data removed]",
      "text/plain": [
       "plot without title"
      ]
     },
     "metadata": {
      "image/png": {
       "height": 420,
       "width": 420
      }
     },
     "output_type": "display_data"
    }
   ],
   "source": [
    "# añadiendo la línea de regresión al diagrama de puntos:\n",
    "plot(datos)\n",
    "abline(regresion,col=\"blue\")"
   ]
  },
  {
   "cell_type": "markdown",
   "metadata": {},
   "source": [
    "> con \"summary\" R nos muestra el resumen de un objeto. En este caso de la regresión (ver los apuntes de la asignatura)"
   ]
  },
  {
   "cell_type": "code",
   "execution_count": 15,
   "metadata": {
    "scrolled": true
   },
   "outputs": [
    {
     "data": {
      "text/plain": [
       "\n",
       "Call:\n",
       "lm(formula = distancia ~ tiempo, data = datos)\n",
       "\n",
       "Residuals:\n",
       "       1        2        3        4        5        6 \n",
       " 0.19960 -0.24132  0.08659 -0.11992 -0.12643  0.20148 \n",
       "\n",
       "Coefficients:\n",
       "            Estimate Std. Error t value Pr(>|t|)    \n",
       "(Intercept)  0.29552    0.18998   1.556 0.194796    \n",
       "tiempo       0.67209    0.04347  15.462 0.000102 ***\n",
       "---\n",
       "Signif. codes:  0 '***' 0.001 '**' 0.01 '*' 0.05 '.' 0.1 ' ' 1\n",
       "\n",
       "Residual standard error: 0.2101 on 4 degrees of freedom\n",
       "Multiple R-squared:  0.9835,\tAdjusted R-squared:  0.9794 \n",
       "F-statistic: 239.1 on 1 and 4 DF,  p-value: 0.0001021\n"
      ]
     },
     "metadata": {},
     "output_type": "display_data"
    }
   ],
   "source": [
    "summary(regresion)"
   ]
  },
  {
   "cell_type": "markdown",
   "metadata": {},
   "source": [
    "> La prueba de hipótesis para los parámetros βi es, Ho: βi = 0"
   ]
  },
  {
   "cell_type": "markdown",
   "metadata": {},
   "source": [
    "> Cuanto más pequeño sea el p-value (menor a 0.05), mostrado en el análisis, más convincente será la evidencia que favorece rechazar la hipótesis nula Ho, correspondiente al parámetro βi y admitimos que hay algún tipo de asociación entre la variable dependiente (respuesta) y las independientes (regresoras)."
   ]
  },
  {
   "cell_type": "code",
   "execution_count": 16,
   "metadata": {},
   "outputs": [
    {
     "data": {
      "text/html": [
       "<style>\n",
       ".dl-inline {width: auto; margin:0; padding: 0}\n",
       ".dl-inline>dt, .dl-inline>dd {float: none; width: auto; display: inline-block}\n",
       ".dl-inline>dt::after {content: \":\\0020\"; padding-right: .5ex}\n",
       ".dl-inline>dt:not(:first-of-type) {padding-left: .5ex}\n",
       "</style><dl class=dl-inline><dt>1</dt><dd>0.900399543378996</dd><dt>2</dt><dd>1.84132420091324</dd><dt>3</dt><dd>2.51341324200913</dd><dt>4</dt><dd>3.3199200913242</dd><dt>5</dt><dd>4.12642694063927</dd><dt>6</dt><dd>4.79851598173516</dd></dl>\n"
      ],
      "text/latex": [
       "\\begin{description*}\n",
       "\\item[1] 0.900399543378996\n",
       "\\item[2] 1.84132420091324\n",
       "\\item[3] 2.51341324200913\n",
       "\\item[4] 3.3199200913242\n",
       "\\item[5] 4.12642694063927\n",
       "\\item[6] 4.79851598173516\n",
       "\\end{description*}\n"
      ],
      "text/markdown": [
       "1\n",
       ":   0.9003995433789962\n",
       ":   1.841324200913243\n",
       ":   2.513413242009134\n",
       ":   3.31992009132425\n",
       ":   4.126426940639276\n",
       ":   4.79851598173516\n",
       "\n"
      ],
      "text/plain": [
       "        1         2         3         4         5         6 \n",
       "0.9003995 1.8413242 2.5134132 3.3199201 4.1264269 4.7985160 "
      ]
     },
     "metadata": {},
     "output_type": "display_data"
    }
   ],
   "source": [
    "# valores estimados de la variable respuesta, de acuerdo con el modelo de regresión:\n",
    "fitted(regresion)"
   ]
  },
  {
   "cell_type": "code",
   "execution_count": 18,
   "metadata": {},
   "outputs": [
    {
     "data": {
      "image/png": "[encoded data removed]",
      "text/plain": [
       "Plot with title \"\""
      ]
     },
     "metadata": {
      "image/png": {
       "height": 420,
       "width": 420
      }
     },
     "output_type": "display_data"
    },
    {
     "data": {
      "image/png": "[encoded data removed]",
      "text/plain": [
       "Plot with title \"\""
      ]
     },
     "metadata": {
      "image/png": {
       "height": 420,
       "width": 420
      }
     },
     "output_type": "display_data"
    },
    {
     "data": {
      "image/png": "[encoded data removed]",
      "text/plain": [
       "Plot with title \"\""
      ]
     },
     "metadata": {
      "image/png": {
       "height": 420,
       "width": 420
      }
     },
     "output_type": "display_data"
    },
    {
     "data": {
      "image/png": "[encoded data removed]",
      "text/plain": [
       "Plot with title \"\""
      ]
     },
     "metadata": {
      "image/png": {
       "height": 420,
       "width": 420
      }
     },
     "output_type": "display_data"
    }
   ],
   "source": [
    "# análisis de los residuos:\n",
    "plot(regresion)"
   ]
  }
 ],
 "metadata": {
  "kernelspec": {
   "display_name": "R",
   "language": "R",
   "name": "ir"
  },
  "language_info": {
   "codemirror_mode": "r",
   "file_extension": ".r",
   "mimetype": "text/x-r-source",
   "name": "R",
   "pygments_lexer": "r",
   "version": "4.0.0"
  }
 },
 "nbformat": 4,
 "nbformat_minor": 4
}
